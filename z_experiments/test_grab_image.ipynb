{
 "cells": [
  {
   "cell_type": "code",
   "execution_count": 27,
   "metadata": {},
   "outputs": [],
   "source": [
    "import requests\n",
    "from requests.auth import HTTPBasicAuth, HTTPDigestAuth"
   ]
  },
  {
   "cell_type": "code",
   "execution_count": 56,
   "metadata": {},
   "outputs": [],
   "source": [
    "r = requests.post('http://192.168.60.9/login.html', data={'text':'admin', 'password':'Sinergija777', 'hidden':'1'})"
   ]
  },
  {
   "cell_type": "code",
   "execution_count": 97,
   "metadata": {},
   "outputs": [],
   "source": [
    "r = requests.get('http://192.168.60.9/scapture',\n",
    "                headers={'Cookie': 'last_tabid=tab-1; lastpage_menuid=i_Users; GXSU=KfFdxguMgver6kI',\n",
    "                'Connection': 'keep-alive',\n",
    "                'Cache-Control': 'max-age=0',\n",
    "                'Upgrade-Insecure-Requests': '1',\n",
    "                'User-Agent': 'Mozilla/5.0 (X11; Linux x86_64) AppleWebKit/537.36 (KHTML, like Gecko) Chrome/68.0.3440.106 Safari/537.36',\n",
    "                'Accept': 'text/html,application/xhtml+xml,application/xml;q=0.9,image/webp,image/apng,*/*;q=0.8',\n",
    "                'Accept-Encoding': 'gzip, deflate',\n",
    "                'Accept-Language': 'en-US,en;q=0.9'\n",
    "})"
   ]
  },
  {
   "cell_type": "code",
   "execution_count": 98,
   "metadata": {},
   "outputs": [
    {
     "data": {
      "text/plain": [
       "b'<html>\\n<head>\\n<title>ARH HTTP Server - 401 Unauthorized</title>\\n\\n<link rel=\"stylesheet\" href=\"/css/gxdModulesHtmlStyle.css\" type=\"text/css\"> </link>\\n\\n<style type=\"text/css\" >\\n\\nh2 {\\n\\tfont-family: Arial; font-size: 14px;\\n}\\n\\n</style>\\n\\n</head>\\n<body bgcolor=\"#f4f4f4\">\\n\\n<table>\\n\\t<tr>\\n\\t\\t<td>\\n\\t\\t\\t<h2>ARH HTTP Server - 401 Unauthorized</h2>\\n\\t\\t</td>\\t\\n\\t</tr>\\n\\t<tr>\\n\\t\\t<td>\\n\\t\\t\\tThis user has no privilege to access this module.\\n\\t\\t</td>\\t\\n\\t</tr>\\n</table>\\n\\n</body>\\n</html>\\r\\n'"
      ]
     },
     "execution_count": 98,
     "metadata": {},
     "output_type": "execute_result"
    }
   ],
   "source": [
    "r.content"
   ]
  },
  {
   "cell_type": "code",
   "execution_count": 90,
   "metadata": {},
   "outputs": [],
   "source": [
    "r = requests.get('http://192.168.60.9/')"
   ]
  },
  {
   "cell_type": "code",
   "execution_count": 108,
   "metadata": {},
   "outputs": [],
   "source": [
    "r = requests.post('http://192.168.60.9/login.html', \n",
    "                  data={'p_send':'1', 'p_username':'admin', 'p_passw':'Sinergija777'},\n",
    "                 headers={'Connection':'keep-alive'})"
   ]
  },
  {
   "cell_type": "code",
   "execution_count": 109,
   "metadata": {},
   "outputs": [
    {
     "name": "stdout",
     "output_type": "stream",
     "text": [
      "GXSU=NYyVwylzcdFJOT9; Path=/; Expires=Sun, 09-Sep-2018 15:12:06 GMT; Max-Age=1800; HttpOnly\n",
      "GXSU=NYyVwylzcdFJOT9\n"
     ]
    }
   ],
   "source": [
    "raw_cookie = r.headers['Set-Cookie']\n",
    "print(raw_cookie)\n",
    "cookie_str=raw_cookie[:raw_cookie.find(';')]\n",
    "print(cookie_str)"
   ]
  },
  {
   "cell_type": "code",
   "execution_count": 154,
   "metadata": {},
   "outputs": [],
   "source": [
    "r = requests.get('http://192.168.60.9/scapture',\n",
    "                headers={'Cookie': 'last_tabid=tab-1; lastpage_menuid=i_Users; GXSU=KfFdxguMgver6kI',\n",
    "                'Connection': 'keep-alive',\n",
    "                'Cookie':cookie_str\n",
    "                })"
   ]
  },
  {
   "cell_type": "code",
   "execution_count": 115,
   "metadata": {},
   "outputs": [],
   "source": [
    "import io\n",
    "from PIL import Image"
   ]
  },
  {
   "cell_type": "code",
   "execution_count": 133,
   "metadata": {},
   "outputs": [],
   "source": [
    "import cv2\n",
    "import numpy as np\n",
    "import time"
   ]
  },
  {
   "cell_type": "code",
   "execution_count": 155,
   "metadata": {},
   "outputs": [
    {
     "name": "stdout",
     "output_type": "stream",
     "text": [
      "0.050972700119018555\n"
     ]
    }
   ],
   "source": [
    "start_time = time.time()\n",
    "img = Image.open(io.BytesIO(r.content)) #lazy operation, thus it's fast\n",
    "img.show()\n",
    "print(time.time()-start_time)"
   ]
  },
  {
   "cell_type": "code",
   "execution_count": 150,
   "metadata": {},
   "outputs": [
    {
     "name": "stdout",
     "output_type": "stream",
     "text": [
      "0.016791582107543945\n"
     ]
    }
   ],
   "source": [
    "start_time = time.time()\n",
    "arr = np.fromstring(r.content, dtype=np.uint8)\n",
    "img = cv2.imdecode(arr, cv2.IMREAD_COLOR)\n",
    "print(time.time()-start_time)"
   ]
  },
  {
   "cell_type": "code",
   "execution_count": 145,
   "metadata": {},
   "outputs": [
    {
     "name": "stdout",
     "output_type": "stream",
     "text": [
      "0.012290239334106445\n"
     ]
    }
   ],
   "source": [
    "start_time = time.time()\n",
    "arr = np.frombuffer(r.content, dtype=np.uint8)\n",
    "img = cv2.imdecode(arr, cv2.IMREAD_COLOR)\n",
    "print(time.time()-start_time)"
   ]
  },
  {
   "cell_type": "code",
   "execution_count": 131,
   "metadata": {},
   "outputs": [
    {
     "data": {
      "text/plain": [
       "-1"
      ]
     },
     "execution_count": 131,
     "metadata": {},
     "output_type": "execute_result"
    }
   ],
   "source": [
    "cv2.imshow('img',img)\n",
    "cv2.waitKey()"
   ]
  },
  {
   "cell_type": "code",
   "execution_count": null,
   "metadata": {},
   "outputs": [],
   "source": [
    ""
   ]
  }
 ],
 "metadata": {
  "kernelspec": {
   "display_name": "Python [conda env:sekkar]",
   "language": "python",
   "name": "conda-env-sekkar-py"
  },
  "language_info": {
   "codemirror_mode": {
    "name": "ipython",
    "version": 3.0
   },
   "file_extension": ".py",
   "mimetype": "text/x-python",
   "name": "python",
   "nbconvert_exporter": "python",
   "pygments_lexer": "ipython3",
   "version": "3.6.6"
  }
 },
 "nbformat": 4,
 "nbformat_minor": 0
}