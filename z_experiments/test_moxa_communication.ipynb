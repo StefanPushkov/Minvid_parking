{
 "cells": [
  {
   "cell_type": "code",
   "execution_count": 1,
   "metadata": {},
   "outputs": [],
   "source": [
    "import requests"
   ]
  },
  {
   "cell_type": "code",
   "execution_count": null,
   "metadata": {},
   "outputs": [],
   "source": [
    "r = requests.get(\"http://192.168.60.50/api/slot/0/io/do\", headers={'Content-Type':\"application/json\",\n",
    "                                                      \"Accept\": 'vdn.dac.v1'})\n",
    "r.json()\n",
    "#put -> add header \"Content-length\":len(bytes_data), body=bytes_data"
   ]
  }
 ],
 "metadata": {
  "kernelspec": {
   "display_name": "Python [conda env:parkomat_app]",
   "language": "python",
   "name": "conda-env-parkomat_app-py"
  },
  "language_info": {
   "codemirror_mode": {
    "name": "ipython",
    "version": 3
   },
   "file_extension": ".py",
   "mimetype": "text/x-python",
   "name": "python",
   "nbconvert_exporter": "python",
   "pygments_lexer": "ipython3",
   "version": "3.6.6"
  }
 },
 "nbformat": 4,
 "nbformat_minor": 2
}
